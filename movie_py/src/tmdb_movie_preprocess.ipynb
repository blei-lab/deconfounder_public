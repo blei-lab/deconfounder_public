{
 "cells": [
  {
   "cell_type": "markdown",
   "metadata": {
    "colab_type": "text",
    "id": "h5jG4VeIaDrX"
   },
   "source": [
    "## Preprocess data"
   ]
  },
  {
   "cell_type": "code",
   "execution_count": 1,
   "metadata": {
    "colab": {
     "autoexec": {
      "startup": false,
      "wait_interval": 0
     },
     "base_uri": "https://localhost:8080/",
     "height": 71,
     "output_extras": [
      {
       "item_id": 1
      }
     ]
    },
    "colab_type": "code",
    "executionInfo": {
     "elapsed": 1490,
     "status": "ok",
     "timestamp": 1519957523062,
     "user": {
      "displayName": "Yixin Wang",
      "photoUrl": "//lh4.googleusercontent.com/-g-8r3ggQo6c/AAAAAAAAAAI/AAAAAAAAJ0E/eQJGyS8z2OA/s50-c-k-no/photo.jpg",
      "userId": "117732458334621555108"
     },
     "user_tz": 300
    },
    "id": "Z_XSM_7lZy0N",
    "outputId": "5f1e105f-5aac-4538-b004-4e144045a602"
   },
   "outputs": [
    {
     "name": "stderr",
     "output_type": "stream",
     "text": [
      "/Users/yixinwang/py2/lib/python2.7/site-packages/h5py/__init__.py:34: FutureWarning: Conversion of the second argument of issubdtype from `float` to `np.floating` is deprecated. In future, it will be treated as `np.float64 == np.dtype(float).type`.\n",
      "  from ._conv import register_converters as _register_converters\n"
     ]
    }
   ],
   "source": [
    "%matplotlib inline\n",
    "from __future__ import absolute_import\n",
    "from __future__ import division\n",
    "from __future__ import print_function\n",
    "\n",
    "import edward as ed\n",
    "import matplotlib.pyplot as plt\n",
    "import numpy as np\n",
    "import tensorflow as tf\n",
    "import pandas as pd\n",
    "import seaborn as sns\n",
    "import statsmodels.api as sm\n",
    "import numpy.random as npr\n",
    "import json\n",
    "\n",
    "from edward.models import Normal\n",
    "\n",
    "plt.style.use('ggplot')"
   ]
  },
  {
   "cell_type": "code",
   "execution_count": 2,
   "metadata": {
    "colab": {
     "autoexec": {
      "startup": false,
      "wait_interval": 0
     }
    },
    "colab_type": "code",
    "id": "UPZH1L4hDQhC"
   },
   "outputs": [],
   "source": [
    "credits = pd.read_csv(\"../dat/tmdb_raw/tmdb-5000-movie-dataset/tmdb_5000_credits.csv\")\n",
    "movies = pd.read_csv(\"../dat/tmdb_raw/tmdb-5000-movie-dataset/tmdb_5000_movies.csv\")"
   ]
  },
  {
   "cell_type": "code",
   "execution_count": 3,
   "metadata": {
    "colab": {
     "autoexec": {
      "startup": false,
      "wait_interval": 0
     }
    },
    "colab_type": "code",
    "id": "5yznmtTJJTlo"
   },
   "outputs": [],
   "source": [
    "# movies.head()"
   ]
  },
  {
   "cell_type": "code",
   "execution_count": 4,
   "metadata": {
    "colab": {
     "autoexec": {
      "startup": false,
      "wait_interval": 0
     }
    },
    "colab_type": "code",
    "id": "pZyxoTtbJXWm"
   },
   "outputs": [],
   "source": [
    "# credits.head()"
   ]
  },
  {
   "cell_type": "code",
   "execution_count": 5,
   "metadata": {
    "colab": {
     "autoexec": {
      "startup": false,
      "wait_interval": 0
     }
    },
    "colab_type": "code",
    "id": "5JoIy1MtJzez"
   },
   "outputs": [],
   "source": [
    "tmdb = pd.merge(movies, credits, left_on=\"id\", right_on=\"movie_id\")"
   ]
  },
  {
   "cell_type": "code",
   "execution_count": 6,
   "metadata": {
    "colab": {
     "autoexec": {
      "startup": false,
      "wait_interval": 0
     }
    },
    "colab_type": "code",
    "id": "WdvFiAy8J6IQ"
   },
   "outputs": [],
   "source": [
    "# tmdb.head()"
   ]
  },
  {
   "cell_type": "code",
   "execution_count": 7,
   "metadata": {
    "colab": {
     "autoexec": {
      "startup": false,
      "wait_interval": 0
     },
     "base_uri": "https://localhost:8080/",
     "height": 119,
     "output_extras": [
      {
       "item_id": 1
      }
     ]
    },
    "colab_type": "code",
    "executionInfo": {
     "elapsed": 274,
     "status": "ok",
     "timestamp": 1519957527859,
     "user": {
      "displayName": "Yixin Wang",
      "photoUrl": "//lh4.googleusercontent.com/-g-8r3ggQo6c/AAAAAAAAAAI/AAAAAAAAJ0E/eQJGyS8z2OA/s50-c-k-no/photo.jpg",
      "userId": "117732458334621555108"
     },
     "user_tz": 300
    },
    "id": "lwbDC2eqKQF6",
    "outputId": "ad2163b0-fd77-4b41-b1ca-ce923b753afb"
   },
   "outputs": [
    {
     "data": {
      "text/plain": [
       "array(['budget', 'genres', 'homepage', 'id', 'keywords',\n",
       "       'original_language', 'original_title', 'overview', 'popularity',\n",
       "       'production_companies', 'production_countries', 'release_date',\n",
       "       'revenue', 'runtime', 'spoken_languages', 'status', 'tagline',\n",
       "       'title_x', 'vote_average', 'vote_count', 'movie_id', 'title_y',\n",
       "       'cast', 'crew'], dtype=object)"
      ]
     },
     "execution_count": 7,
     "metadata": {},
     "output_type": "execute_result"
    }
   ],
   "source": [
    "tmdb.columns.values"
   ]
  },
  {
   "cell_type": "code",
   "execution_count": 8,
   "metadata": {
    "colab": {
     "autoexec": {
      "startup": false,
      "wait_interval": 0
     },
     "base_uri": "https://localhost:8080/",
     "height": 51,
     "output_extras": [
      {
       "item_id": 1
      }
     ]
    },
    "colab_type": "code",
    "executionInfo": {
     "elapsed": 331,
     "status": "ok",
     "timestamp": 1519957529074,
     "user": {
      "displayName": "Yixin Wang",
      "photoUrl": "//lh4.googleusercontent.com/-g-8r3ggQo6c/AAAAAAAAAAI/AAAAAAAAJ0E/eQJGyS8z2OA/s50-c-k-no/photo.jpg",
      "userId": "117732458334621555108"
     },
     "user_tz": 300
    },
    "id": "lVTUA6a5KjHn",
    "outputId": "862df610-2853-4f72-918f-3d69570bfe0b"
   },
   "outputs": [
    {
     "name": "stderr",
     "output_type": "stream",
     "text": [
      "/Users/yixinwang/py2/lib/python2.7/site-packages/ipykernel_launcher.py:2: RuntimeWarning: divide by zero encountered in log\n",
      "  \n"
     ]
    }
   ],
   "source": [
    "tmdb.drop(['homepage', 'id', 'keywords', 'original_title', \\\n",
    "           'overview', 'release_date', 'tagline', 'title_x', \\\n",
    "           'title_y', 'crew'], axis=1, inplace=True)\n",
    "tmdb[\"log_profit_rate\"] = np.log(tmdb[\"revenue\"] / tmdb[\"budget\"])\n",
    "tmdb[\"log_profit_rate\"] = tmdb[\"log_profit_rate\"].replace([np.inf, -np.inf], np.nan)\n",
    "tmdb = tmdb.dropna()\n"
   ]
  },
  {
   "cell_type": "code",
   "execution_count": 9,
   "metadata": {
    "colab": {
     "autoexec": {
      "startup": false,
      "wait_interval": 0
     },
     "base_uri": "https://localhost:8080/",
     "height": 333,
     "output_extras": [
      {
       "item_id": 1
      },
      {
       "item_id": 2
      }
     ]
    },
    "colab_type": "code",
    "executionInfo": {
     "elapsed": 320,
     "status": "ok",
     "timestamp": 1519957530051,
     "user": {
      "displayName": "Yixin Wang",
      "photoUrl": "//lh4.googleusercontent.com/-g-8r3ggQo6c/AAAAAAAAAAI/AAAAAAAAJ0E/eQJGyS8z2OA/s50-c-k-no/photo.jpg",
      "userId": "117732458334621555108"
     },
     "user_tz": 300
    },
    "id": "3gzQTsO-IhTr",
    "outputId": "254d9806-962f-4f32-e0ff-eb0584313215"
   },
   "outputs": [
    {
     "data": {
      "text/plain": [
       "(array([   5.,    0.,   12.,   90., 1388., 1683.,   46.,    3.,    0.,\n",
       "           2.]), array([-14.46609812, -11.42393064,  -8.38176315,  -5.33959567,\n",
       "         -2.29742819,   0.7447393 ,   3.78690678,   6.82907427,\n",
       "          9.87124175,  12.91340924,  15.95557672]), <a list of 10 Patch objects>)"
      ]
     },
     "execution_count": 9,
     "metadata": {},
     "output_type": "execute_result"
    },
    {
     "data": {
      "image/png": "[encoded data removed]",
      "text/plain": [
       "<matplotlib.figure.Figure at 0x11aed3110>"
      ]
     },
     "metadata": {},
     "output_type": "display_data"
    }
   ],
   "source": [
    "plt.hist(tmdb[\"log_profit_rate\"])"
   ]
  },
  {
   "cell_type": "code",
   "execution_count": 10,
   "metadata": {
    "colab": {
     "autoexec": {
      "startup": false,
      "wait_interval": 0
     }
    },
    "colab_type": "code",
    "id": "AHN3iY5hg440"
   },
   "outputs": [],
   "source": [
    "tmdb = tmdb[tmdb[\"log_profit_rate\"].abs() < 6] # delete outliers"
   ]
  },
  {
   "cell_type": "code",
   "execution_count": 11,
   "metadata": {
    "colab": {
     "autoexec": {
      "startup": false,
      "wait_interval": 0
     },
     "base_uri": "https://localhost:8080/",
     "height": 367,
     "output_extras": [
      {
       "item_id": 1
      },
      {
       "item_id": 2
      }
     ]
    },
    "colab_type": "code",
    "executionInfo": {
     "elapsed": 377,
     "status": "ok",
     "timestamp": 1519957539085,
     "user": {
      "displayName": "Yixin Wang",
      "photoUrl": "//lh4.googleusercontent.com/-g-8r3ggQo6c/AAAAAAAAAAI/AAAAAAAAJ0E/eQJGyS8z2OA/s50-c-k-no/photo.jpg",
      "userId": "117732458334621555108"
     },
     "user_tz": 300
    },
    "id": "xDSbgcTfh2lI",
    "outputId": "afdd5de5-9666-4177-9d8e-7d1e7519c273"
   },
   "outputs": [
    {
     "data": {
      "text/plain": [
       "(array([  15.,   31.,   56.,  174.,  569., 1301.,  833.,  174.,   41.,\n",
       "          12.]),\n",
       " array([-5.70746783, -4.5472678 , -3.38706777, -2.22686774, -1.06666771,\n",
       "         0.09353232,  1.25373235,  2.41393238,  3.57413241,  4.73433244,\n",
       "         5.89453246]),\n",
       " <a list of 10 Patch objects>)"
      ]
     },
     "execution_count": 11,
     "metadata": {},
     "output_type": "execute_result"
    },
    {
     "data": {
      "image/png": "[encoded data removed]",
      "text/plain": [
       "<matplotlib.figure.Figure at 0x11afd3750>"
      ]
     },
     "metadata": {},
     "output_type": "display_data"
    }
   ],
   "source": [
    "plt.hist(tmdb[\"log_profit_rate\"])"
   ]
  },
  {
   "cell_type": "code",
   "execution_count": 12,
   "metadata": {
    "colab": {
     "autoexec": {
      "startup": false,
      "wait_interval": 0
     }
    },
    "colab_type": "code",
    "id": "rZVUhU9AMXOl"
   },
   "outputs": [],
   "source": [
    "tmdb = tmdb[tmdb[\"status\"]==\"Released\"]\n",
    "tmdb.drop(['status'], axis=1, inplace=True)"
   ]
  },
  {
   "cell_type": "code",
   "execution_count": 13,
   "metadata": {
    "colab": {
     "autoexec": {
      "startup": false,
      "wait_interval": 0
     }
    },
    "colab_type": "code",
    "id": "VJdVw-ZHNvEY"
   },
   "outputs": [],
   "source": [
    "tmdb.index = pd.RangeIndex(len(tmdb.index))"
   ]
  },
  {
   "cell_type": "code",
   "execution_count": 14,
   "metadata": {
    "colab": {
     "autoexec": {
      "startup": false,
      "wait_interval": 0
     },
     "base_uri": "https://localhost:8080/",
     "height": 598,
     "output_extras": [
      {
       "item_id": 1
      }
     ]
    },
    "colab_type": "code",
    "executionInfo": {
     "elapsed": 231,
     "status": "ok",
     "timestamp": 1519957548034,
     "user": {
      "displayName": "Yixin Wang",
      "photoUrl": "//lh4.googleusercontent.com/-g-8r3ggQo6c/AAAAAAAAAAI/AAAAAAAAJ0E/eQJGyS8z2OA/s50-c-k-no/photo.jpg",
      "userId": "117732458334621555108"
     },
     "user_tz": 300
    },
    "id": "m5FuQ4uCmlSN",
    "outputId": "2b73a408-fd91-4c79-e6a6-fdff546fe649"
   },
   "outputs": [
    {
     "data": {
      "text/html": [
       "<div>\n",
       "<style scoped>\n",
       "    .dataframe tbody tr th:only-of-type {\n",
       "        vertical-align: middle;\n",
       "    }\n",
       "\n",
       "    .dataframe tbody tr th {\n",
       "        vertical-align: top;\n",
       "    }\n",
       "\n",
       "    .dataframe thead th {\n",
       "        text-align: right;\n",
       "    }\n",
       "</style>\n",
       "<table border=\"1\" class=\"dataframe\">\n",
       "  <thead>\n",
       "    <tr style=\"text-align: right;\">\n",
       "      <th></th>\n",
       "      <th>budget</th>\n",
       "      <th>genres</th>\n",
       "      <th>original_language</th>\n",
       "      <th>popularity</th>\n",
       "      <th>production_companies</th>\n",
       "      <th>production_countries</th>\n",
       "      <th>revenue</th>\n",
       "      <th>runtime</th>\n",
       "      <th>spoken_languages</th>\n",
       "      <th>vote_average</th>\n",
       "      <th>vote_count</th>\n",
       "      <th>movie_id</th>\n",
       "      <th>cast</th>\n",
       "      <th>log_profit_rate</th>\n",
       "    </tr>\n",
       "  </thead>\n",
       "  <tbody>\n",
       "    <tr>\n",
       "      <th>0</th>\n",
       "      <td>237000000</td>\n",
       "      <td>[{\"id\": 28, \"name\": \"Action\"}, {\"id\": 12, \"nam...</td>\n",
       "      <td>en</td>\n",
       "      <td>150.437577</td>\n",
       "      <td>[{\"name\": \"Ingenious Film Partners\", \"id\": 289...</td>\n",
       "      <td>[{\"iso_3166_1\": \"US\", \"name\": \"United States o...</td>\n",
       "      <td>2787965087</td>\n",
       "      <td>162.0</td>\n",
       "      <td>[{\"iso_639_1\": \"en\", \"name\": \"English\"}, {\"iso...</td>\n",
       "      <td>7.2</td>\n",
       "      <td>11800</td>\n",
       "      <td>19995</td>\n",
       "      <td>[{\"cast_id\": 242, \"character\": \"Jake Sully\", \"...</td>\n",
       "      <td>2.465007</td>\n",
       "    </tr>\n",
       "    <tr>\n",
       "      <th>1</th>\n",
       "      <td>300000000</td>\n",
       "      <td>[{\"id\": 12, \"name\": \"Adventure\"}, {\"id\": 14, \"...</td>\n",
       "      <td>en</td>\n",
       "      <td>139.082615</td>\n",
       "      <td>[{\"name\": \"Walt Disney Pictures\", \"id\": 2}, {\"...</td>\n",
       "      <td>[{\"iso_3166_1\": \"US\", \"name\": \"United States o...</td>\n",
       "      <td>961000000</td>\n",
       "      <td>169.0</td>\n",
       "      <td>[{\"iso_639_1\": \"en\", \"name\": \"English\"}]</td>\n",
       "      <td>6.9</td>\n",
       "      <td>4500</td>\n",
       "      <td>285</td>\n",
       "      <td>[{\"cast_id\": 4, \"character\": \"Captain Jack Spa...</td>\n",
       "      <td>1.164192</td>\n",
       "    </tr>\n",
       "    <tr>\n",
       "      <th>2</th>\n",
       "      <td>245000000</td>\n",
       "      <td>[{\"id\": 28, \"name\": \"Action\"}, {\"id\": 12, \"nam...</td>\n",
       "      <td>en</td>\n",
       "      <td>107.376788</td>\n",
       "      <td>[{\"name\": \"Columbia Pictures\", \"id\": 5}, {\"nam...</td>\n",
       "      <td>[{\"iso_3166_1\": \"GB\", \"name\": \"United Kingdom\"...</td>\n",
       "      <td>880674609</td>\n",
       "      <td>148.0</td>\n",
       "      <td>[{\"iso_639_1\": \"fr\", \"name\": \"Fran\\u00e7ais\"},...</td>\n",
       "      <td>6.3</td>\n",
       "      <td>4466</td>\n",
       "      <td>206647</td>\n",
       "      <td>[{\"cast_id\": 1, \"character\": \"James Bond\", \"cr...</td>\n",
       "      <td>1.279430</td>\n",
       "    </tr>\n",
       "    <tr>\n",
       "      <th>3</th>\n",
       "      <td>250000000</td>\n",
       "      <td>[{\"id\": 28, \"name\": \"Action\"}, {\"id\": 80, \"nam...</td>\n",
       "      <td>en</td>\n",
       "      <td>112.312950</td>\n",
       "      <td>[{\"name\": \"Legendary Pictures\", \"id\": 923}, {\"...</td>\n",
       "      <td>[{\"iso_3166_1\": \"US\", \"name\": \"United States o...</td>\n",
       "      <td>1084939099</td>\n",
       "      <td>165.0</td>\n",
       "      <td>[{\"iso_639_1\": \"en\", \"name\": \"English\"}]</td>\n",
       "      <td>7.6</td>\n",
       "      <td>9106</td>\n",
       "      <td>49026</td>\n",
       "      <td>[{\"cast_id\": 2, \"character\": \"Bruce Wayne / Ba...</td>\n",
       "      <td>1.467818</td>\n",
       "    </tr>\n",
       "    <tr>\n",
       "      <th>4</th>\n",
       "      <td>260000000</td>\n",
       "      <td>[{\"id\": 28, \"name\": \"Action\"}, {\"id\": 12, \"nam...</td>\n",
       "      <td>en</td>\n",
       "      <td>43.926995</td>\n",
       "      <td>[{\"name\": \"Walt Disney Pictures\", \"id\": 2}]</td>\n",
       "      <td>[{\"iso_3166_1\": \"US\", \"name\": \"United States o...</td>\n",
       "      <td>284139100</td>\n",
       "      <td>132.0</td>\n",
       "      <td>[{\"iso_639_1\": \"en\", \"name\": \"English\"}]</td>\n",
       "      <td>6.1</td>\n",
       "      <td>2124</td>\n",
       "      <td>49529</td>\n",
       "      <td>[{\"cast_id\": 5, \"character\": \"John Carter\", \"c...</td>\n",
       "      <td>0.088782</td>\n",
       "    </tr>\n",
       "  </tbody>\n",
       "</table>\n",
       "</div>"
      ],
      "text/plain": [
       "      budget                                             genres  \\\n",
       "0  237000000  [{\"id\": 28, \"name\": \"Action\"}, {\"id\": 12, \"nam...   \n",
       "1  300000000  [{\"id\": 12, \"name\": \"Adventure\"}, {\"id\": 14, \"...   \n",
       "2  245000000  [{\"id\": 28, \"name\": \"Action\"}, {\"id\": 12, \"nam...   \n",
       "3  250000000  [{\"id\": 28, \"name\": \"Action\"}, {\"id\": 80, \"nam...   \n",
       "4  260000000  [{\"id\": 28, \"name\": \"Action\"}, {\"id\": 12, \"nam...   \n",
       "\n",
       "  original_language  popularity  \\\n",
       "0                en  150.437577   \n",
       "1                en  139.082615   \n",
       "2                en  107.376788   \n",
       "3                en  112.312950   \n",
       "4                en   43.926995   \n",
       "\n",
       "                                production_companies  \\\n",
       "0  [{\"name\": \"Ingenious Film Partners\", \"id\": 289...   \n",
       "1  [{\"name\": \"Walt Disney Pictures\", \"id\": 2}, {\"...   \n",
       "2  [{\"name\": \"Columbia Pictures\", \"id\": 5}, {\"nam...   \n",
       "3  [{\"name\": \"Legendary Pictures\", \"id\": 923}, {\"...   \n",
       "4        [{\"name\": \"Walt Disney Pictures\", \"id\": 2}]   \n",
       "\n",
       "                                production_countries     revenue  runtime  \\\n",
       "0  [{\"iso_3166_1\": \"US\", \"name\": \"United States o...  2787965087    162.0   \n",
       "1  [{\"iso_3166_1\": \"US\", \"name\": \"United States o...   961000000    169.0   \n",
       "2  [{\"iso_3166_1\": \"GB\", \"name\": \"United Kingdom\"...   880674609    148.0   \n",
       "3  [{\"iso_3166_1\": \"US\", \"name\": \"United States o...  1084939099    165.0   \n",
       "4  [{\"iso_3166_1\": \"US\", \"name\": \"United States o...   284139100    132.0   \n",
       "\n",
       "                                    spoken_languages  vote_average  \\\n",
       "0  [{\"iso_639_1\": \"en\", \"name\": \"English\"}, {\"iso...           7.2   \n",
       "1           [{\"iso_639_1\": \"en\", \"name\": \"English\"}]           6.9   \n",
       "2  [{\"iso_639_1\": \"fr\", \"name\": \"Fran\\u00e7ais\"},...           6.3   \n",
       "3           [{\"iso_639_1\": \"en\", \"name\": \"English\"}]           7.6   \n",
       "4           [{\"iso_639_1\": \"en\", \"name\": \"English\"}]           6.1   \n",
       "\n",
       "   vote_count  movie_id                                               cast  \\\n",
       "0       11800     19995  [{\"cast_id\": 242, \"character\": \"Jake Sully\", \"...   \n",
       "1        4500       285  [{\"cast_id\": 4, \"character\": \"Captain Jack Spa...   \n",
       "2        4466    206647  [{\"cast_id\": 1, \"character\": \"James Bond\", \"cr...   \n",
       "3        9106     49026  [{\"cast_id\": 2, \"character\": \"Bruce Wayne / Ba...   \n",
       "4        2124     49529  [{\"cast_id\": 5, \"character\": \"John Carter\", \"c...   \n",
       "\n",
       "   log_profit_rate  \n",
       "0         2.465007  \n",
       "1         1.164192  \n",
       "2         1.279430  \n",
       "3         1.467818  \n",
       "4         0.088782  "
      ]
     },
     "execution_count": 14,
     "metadata": {},
     "output_type": "execute_result"
    }
   ],
   "source": [
    "tmdb.head()"
   ]
  },
  {
   "cell_type": "code",
   "execution_count": 15,
   "metadata": {
    "colab": {
     "autoexec": {
      "startup": false,
      "wait_interval": 0
     }
    },
    "colab_type": "code",
    "id": "NsrHLu7YQplR"
   },
   "outputs": [],
   "source": [
    "genres_list = [(np.array(pd.read_json(tmdb['genres'][row])), \\\n",
    "                tmdb[\"movie_id\"][row]) for row in tmdb.index]\n",
    "genres = np.concatenate([np.column_stack(\\\n",
    "                                         (np.tile(old_movie_id, genre.shape[0]), \\\n",
    "                                          genre)) \\\n",
    "                         for genre, old_movie_id in genres_list \\\n",
    "                         if genre.shape[0] > 0 ])"
   ]
  },
  {
   "cell_type": "code",
   "execution_count": 16,
   "metadata": {
    "colab": {
     "autoexec": {
      "startup": false,
      "wait_interval": 0
     }
    },
    "colab_type": "code",
    "id": "UZ7wiohmV4S8"
   },
   "outputs": [],
   "source": [
    "genres_df = pd.DataFrame(genres, columns=['movie_id', 'genre_id', 'genre'])"
   ]
  },
  {
   "cell_type": "code",
   "execution_count": 17,
   "metadata": {
    "colab": {
     "autoexec": {
      "startup": false,
      "wait_interval": 0
     },
     "base_uri": "https://localhost:8080/",
     "height": 204,
     "output_extras": [
      {
       "item_id": 1
      }
     ]
    },
    "colab_type": "code",
    "executionInfo": {
     "elapsed": 321,
     "status": "ok",
     "timestamp": 1519957559112,
     "user": {
      "displayName": "Yixin Wang",
      "photoUrl": "//lh4.googleusercontent.com/-g-8r3ggQo6c/AAAAAAAAAAI/AAAAAAAAJ0E/eQJGyS8z2OA/s50-c-k-no/photo.jpg",
      "userId": "117732458334621555108"
     },
     "user_tz": 300
    },
    "id": "oyxQv4qk8gMV",
    "outputId": "f5487a70-2f22-4125-a894-4f8039c6c84c"
   },
   "outputs": [
    {
     "data": {
      "text/html": [
       "<div>\n",
       "<style scoped>\n",
       "    .dataframe tbody tr th:only-of-type {\n",
       "        vertical-align: middle;\n",
       "    }\n",
       "\n",
       "    .dataframe tbody tr th {\n",
       "        vertical-align: top;\n",
       "    }\n",
       "\n",
       "    .dataframe thead th {\n",
       "        text-align: right;\n",
       "    }\n",
       "</style>\n",
       "<table border=\"1\" class=\"dataframe\">\n",
       "  <thead>\n",
       "    <tr style=\"text-align: right;\">\n",
       "      <th></th>\n",
       "      <th>movie_id</th>\n",
       "      <th>genre_id</th>\n",
       "      <th>genre</th>\n",
       "    </tr>\n",
       "  </thead>\n",
       "  <tbody>\n",
       "    <tr>\n",
       "      <th>0</th>\n",
       "      <td>19995</td>\n",
       "      <td>28</td>\n",
       "      <td>Action</td>\n",
       "    </tr>\n",
       "    <tr>\n",
       "      <th>1</th>\n",
       "      <td>19995</td>\n",
       "      <td>12</td>\n",
       "      <td>Adventure</td>\n",
       "    </tr>\n",
       "    <tr>\n",
       "      <th>2</th>\n",
       "      <td>19995</td>\n",
       "      <td>14</td>\n",
       "      <td>Fantasy</td>\n",
       "    </tr>\n",
       "    <tr>\n",
       "      <th>3</th>\n",
       "      <td>19995</td>\n",
       "      <td>878</td>\n",
       "      <td>Science Fiction</td>\n",
       "    </tr>\n",
       "    <tr>\n",
       "      <th>4</th>\n",
       "      <td>285</td>\n",
       "      <td>12</td>\n",
       "      <td>Adventure</td>\n",
       "    </tr>\n",
       "  </tbody>\n",
       "</table>\n",
       "</div>"
      ],
      "text/plain": [
       "  movie_id genre_id            genre\n",
       "0    19995       28           Action\n",
       "1    19995       12        Adventure\n",
       "2    19995       14          Fantasy\n",
       "3    19995      878  Science Fiction\n",
       "4      285       12        Adventure"
      ]
     },
     "execution_count": 17,
     "metadata": {},
     "output_type": "execute_result"
    }
   ],
   "source": [
    "genres_df.head()"
   ]
  },
  {
   "cell_type": "code",
   "execution_count": 18,
   "metadata": {
    "colab": {
     "autoexec": {
      "startup": false,
      "wait_interval": 0
     },
     "base_uri": "https://localhost:8080/",
     "height": 357,
     "output_extras": [
      {
       "item_id": 1
      }
     ]
    },
    "colab_type": "code",
    "executionInfo": {
     "elapsed": 260,
     "status": "ok",
     "timestamp": 1519957559650,
     "user": {
      "displayName": "Yixin Wang",
      "photoUrl": "//lh4.googleusercontent.com/-g-8r3ggQo6c/AAAAAAAAAAI/AAAAAAAAJ0E/eQJGyS8z2OA/s50-c-k-no/photo.jpg",
      "userId": "117732458334621555108"
     },
     "user_tz": 300
    },
    "id": "lN_0gbE49B7f",
    "outputId": "483e8dac-9b72-4273-9bf7-9777f7a73d61"
   },
   "outputs": [
    {
     "data": {
      "text/plain": [
       "Drama              1427\n",
       "Comedy             1100\n",
       "Thriller            929\n",
       "Action              916\n",
       "Adventure           660\n",
       "Romance             571\n",
       "Crime               519\n",
       "Science Fiction     430\n",
       "Family              363\n",
       "Fantasy             339\n",
       "Horror              326\n",
       "Mystery             262\n",
       "Animation           187\n",
       "History             144\n",
       "War                 119\n",
       "Music               110\n",
       "Western              57\n",
       "Documentary          36\n",
       "Foreign               5\n",
       "Name: genre, dtype: int64"
      ]
     },
     "execution_count": 18,
     "metadata": {},
     "output_type": "execute_result"
    }
   ],
   "source": [
    "genres_df[\"genre\"].value_counts()"
   ]
  },
  {
   "cell_type": "code",
   "execution_count": 19,
   "metadata": {
    "colab": {
     "autoexec": {
      "startup": false,
      "wait_interval": 0
     }
    },
    "colab_type": "code",
    "id": "xqHErXvmj9-x"
   },
   "outputs": [],
   "source": [
    "new_genres_id_table = np.column_stack((genres_df.genre_id.unique(), range(len(genres_df.genre_id.unique()))))\n",
    "new_genres_id_table = pd.DataFrame(new_genres_id_table, columns=['genre_id', 'new_genre_id'])\n",
    "genres_df = pd.merge(genres_df, new_genres_id_table, left_on=\"genre_id\", right_on=\"genre_id\")"
   ]
  },
  {
   "cell_type": "code",
   "execution_count": 20,
   "metadata": {
    "colab": {
     "autoexec": {
      "startup": false,
      "wait_interval": 0
     },
     "base_uri": "https://localhost:8080/",
     "height": 204,
     "output_extras": [
      {
       "item_id": 1
      }
     ]
    },
    "colab_type": "code",
    "executionInfo": {
     "elapsed": 327,
     "status": "ok",
     "timestamp": 1519957560621,
     "user": {
      "displayName": "Yixin Wang",
      "photoUrl": "//lh4.googleusercontent.com/-g-8r3ggQo6c/AAAAAAAAAAI/AAAAAAAAJ0E/eQJGyS8z2OA/s50-c-k-no/photo.jpg",
      "userId": "117732458334621555108"
     },
     "user_tz": 300
    },
    "id": "tp_yS1mWmutV",
    "outputId": "36042d2a-f26b-4e83-d448-206ee40d1d17"
   },
   "outputs": [
    {
     "data": {
      "text/html": [
       "<div>\n",
       "<style scoped>\n",
       "    .dataframe tbody tr th:only-of-type {\n",
       "        vertical-align: middle;\n",
       "    }\n",
       "\n",
       "    .dataframe tbody tr th {\n",
       "        vertical-align: top;\n",
       "    }\n",
       "\n",
       "    .dataframe thead th {\n",
       "        text-align: right;\n",
       "    }\n",
       "</style>\n",
       "<table border=\"1\" class=\"dataframe\">\n",
       "  <thead>\n",
       "    <tr style=\"text-align: right;\">\n",
       "      <th></th>\n",
       "      <th>movie_id</th>\n",
       "      <th>genre_id</th>\n",
       "      <th>genre</th>\n",
       "      <th>new_genre_id</th>\n",
       "    </tr>\n",
       "  </thead>\n",
       "  <tbody>\n",
       "    <tr>\n",
       "      <th>0</th>\n",
       "      <td>19995</td>\n",
       "      <td>28</td>\n",
       "      <td>Action</td>\n",
       "      <td>0</td>\n",
       "    </tr>\n",
       "    <tr>\n",
       "      <th>1</th>\n",
       "      <td>285</td>\n",
       "      <td>28</td>\n",
       "      <td>Action</td>\n",
       "      <td>0</td>\n",
       "    </tr>\n",
       "    <tr>\n",
       "      <th>2</th>\n",
       "      <td>206647</td>\n",
       "      <td>28</td>\n",
       "      <td>Action</td>\n",
       "      <td>0</td>\n",
       "    </tr>\n",
       "    <tr>\n",
       "      <th>3</th>\n",
       "      <td>49026</td>\n",
       "      <td>28</td>\n",
       "      <td>Action</td>\n",
       "      <td>0</td>\n",
       "    </tr>\n",
       "    <tr>\n",
       "      <th>4</th>\n",
       "      <td>49529</td>\n",
       "      <td>28</td>\n",
       "      <td>Action</td>\n",
       "      <td>0</td>\n",
       "    </tr>\n",
       "  </tbody>\n",
       "</table>\n",
       "</div>"
      ],
      "text/plain": [
       "  movie_id genre_id   genre new_genre_id\n",
       "0    19995       28  Action            0\n",
       "1      285       28  Action            0\n",
       "2   206647       28  Action            0\n",
       "3    49026       28  Action            0\n",
       "4    49529       28  Action            0"
      ]
     },
     "execution_count": 20,
     "metadata": {},
     "output_type": "execute_result"
    }
   ],
   "source": [
    "genres_df.head()"
   ]
  },
  {
   "cell_type": "code",
   "execution_count": 21,
   "metadata": {
    "colab": {
     "autoexec": {
      "startup": false,
      "wait_interval": 0
     }
    },
    "colab_type": "code",
    "id": "SDv30qwB420J"
   },
   "outputs": [],
   "source": [
    "casts_list = [(np.array(pd.read_json(tmdb['cast'][row])), \\\n",
    "               tmdb[\"movie_id\"][row]) for row in tmdb.index]\n",
    "casts = np.concatenate([np.column_stack(\\\n",
    "                                        (np.tile(old_movie_id, cast.shape[0]), \\\n",
    "                                         cast)) \\\n",
    "                        for cast, old_movie_id in casts_list \\\n",
    "                        if cast.shape[0] > 0 ])"
   ]
  },
  {
   "cell_type": "code",
   "execution_count": 22,
   "metadata": {
    "colab": {
     "autoexec": {
      "startup": false,
      "wait_interval": 0
     }
    },
    "colab_type": "code",
    "id": "1FIvSpT_52g6"
   },
   "outputs": [],
   "source": [
    "casts_df = pd.DataFrame(casts, columns=['movie_id', 'cast_id', \\\n",
    "                                        'character', 'credit_id', 'gender', \\\n",
    "                                        'actor_id', 'name', 'order'])"
   ]
  },
  {
   "cell_type": "code",
   "execution_count": 23,
   "metadata": {
    "colab": {
     "autoexec": {
      "startup": false,
      "wait_interval": 0
     },
     "base_uri": "https://localhost:8080/",
     "height": 173,
     "output_extras": [
      {
       "item_id": 1
      }
     ]
    },
    "colab_type": "code",
    "executionInfo": {
     "elapsed": 514,
     "status": "ok",
     "timestamp": 1519957583663,
     "user": {
      "displayName": "Yixin Wang",
      "photoUrl": "//lh4.googleusercontent.com/-g-8r3ggQo6c/AAAAAAAAAAI/AAAAAAAAJ0E/eQJGyS8z2OA/s50-c-k-no/photo.jpg",
      "userId": "117732458334621555108"
     },
     "user_tz": 300
    },
    "id": "5lNg51zP8J5t",
    "outputId": "13e52381-a760-485f-980a-06831844f7fe"
   },
   "outputs": [
    {
     "data": {
      "text/html": [
       "<div>\n",
       "<style scoped>\n",
       "    .dataframe tbody tr th:only-of-type {\n",
       "        vertical-align: middle;\n",
       "    }\n",
       "\n",
       "    .dataframe tbody tr th {\n",
       "        vertical-align: top;\n",
       "    }\n",
       "\n",
       "    .dataframe thead th {\n",
       "        text-align: right;\n",
       "    }\n",
       "</style>\n",
       "<table border=\"1\" class=\"dataframe\">\n",
       "  <thead>\n",
       "    <tr style=\"text-align: right;\">\n",
       "      <th></th>\n",
       "      <th>movie_id</th>\n",
       "      <th>cast_id</th>\n",
       "      <th>character</th>\n",
       "      <th>credit_id</th>\n",
       "      <th>gender</th>\n",
       "      <th>actor_id</th>\n",
       "      <th>name</th>\n",
       "      <th>order</th>\n",
       "    </tr>\n",
       "  </thead>\n",
       "  <tbody>\n",
       "    <tr>\n",
       "      <th>count</th>\n",
       "      <td>83754</td>\n",
       "      <td>83754</td>\n",
       "      <td>83754</td>\n",
       "      <td>83754</td>\n",
       "      <td>83754</td>\n",
       "      <td>83754</td>\n",
       "      <td>83754</td>\n",
       "      <td>83754</td>\n",
       "    </tr>\n",
       "    <tr>\n",
       "      <th>unique</th>\n",
       "      <td>3203</td>\n",
       "      <td>524</td>\n",
       "      <td>58181</td>\n",
       "      <td>83754</td>\n",
       "      <td>3</td>\n",
       "      <td>45291</td>\n",
       "      <td>45013</td>\n",
       "      <td>225</td>\n",
       "    </tr>\n",
       "    <tr>\n",
       "      <th>top</th>\n",
       "      <td>80585</td>\n",
       "      <td>4</td>\n",
       "      <td>Himself</td>\n",
       "      <td>52fe48f7c3a36847f81828a9</td>\n",
       "      <td>2</td>\n",
       "      <td>2231</td>\n",
       "      <td>Samuel L. Jackson</td>\n",
       "      <td>1</td>\n",
       "    </tr>\n",
       "    <tr>\n",
       "      <th>freq</th>\n",
       "      <td>224</td>\n",
       "      <td>1760</td>\n",
       "      <td>508</td>\n",
       "      <td>1</td>\n",
       "      <td>38589</td>\n",
       "      <td>53</td>\n",
       "      <td>53</td>\n",
       "      <td>3185</td>\n",
       "    </tr>\n",
       "  </tbody>\n",
       "</table>\n",
       "</div>"
      ],
      "text/plain": [
       "        movie_id  cast_id character                 credit_id  gender  \\\n",
       "count      83754    83754     83754                     83754   83754   \n",
       "unique      3203      524     58181                     83754       3   \n",
       "top        80585        4   Himself  52fe48f7c3a36847f81828a9       2   \n",
       "freq         224     1760       508                         1   38589   \n",
       "\n",
       "        actor_id               name  order  \n",
       "count      83754              83754  83754  \n",
       "unique     45291              45013    225  \n",
       "top         2231  Samuel L. Jackson      1  \n",
       "freq          53                 53   3185  "
      ]
     },
     "execution_count": 23,
     "metadata": {},
     "output_type": "execute_result"
    }
   ],
   "source": [
    "casts_df.describe()"
   ]
  },
  {
   "cell_type": "code",
   "execution_count": 24,
   "metadata": {
    "colab": {
     "autoexec": {
      "startup": false,
      "wait_interval": 0
     },
     "base_uri": "https://localhost:8080/",
     "height": 826,
     "output_extras": [
      {
       "item_id": 1
      },
      {
       "item_id": 2
      }
     ]
    },
    "colab_type": "code",
    "executionInfo": {
     "elapsed": 655,
     "status": "ok",
     "timestamp": 1519957585447,
     "user": {
      "displayName": "Yixin Wang",
      "photoUrl": "//lh4.googleusercontent.com/-g-8r3ggQo6c/AAAAAAAAAAI/AAAAAAAAJ0E/eQJGyS8z2OA/s50-c-k-no/photo.jpg",
      "userId": "117732458334621555108"
     },
     "user_tz": 300
    },
    "id": "-0YX-ril9iUn",
    "outputId": "25875c83-8063-45ee-b011-c5920c4f5421"
   },
   "outputs": [
    {
     "data": {
      "text/plain": [
       "(array([3.2667e+04, 6.0960e+03, 0.0000e+00, 2.4510e+03, 0.0000e+00,\n",
       "        1.1870e+03, 0.0000e+00, 7.0300e+02, 0.0000e+00, 4.9700e+02,\n",
       "        0.0000e+00, 3.2700e+02, 0.0000e+00, 2.4700e+02, 0.0000e+00,\n",
       "        2.1500e+02, 0.0000e+00, 1.4800e+02, 0.0000e+00, 1.0200e+02,\n",
       "        0.0000e+00, 9.0000e+01, 0.0000e+00, 8.3000e+01, 0.0000e+00,\n",
       "        7.4000e+01, 4.5000e+01, 0.0000e+00, 6.1000e+01, 0.0000e+00,\n",
       "        4.6000e+01, 0.0000e+00, 3.4000e+01, 0.0000e+00, 4.0000e+01,\n",
       "        0.0000e+00, 1.1000e+01, 0.0000e+00, 2.9000e+01, 0.0000e+00,\n",
       "        3.0000e+01, 0.0000e+00, 1.8000e+01, 0.0000e+00, 1.8000e+01,\n",
       "        0.0000e+00, 1.3000e+01, 0.0000e+00, 9.0000e+00, 0.0000e+00,\n",
       "        5.0000e+00, 1.0000e+01, 0.0000e+00, 8.0000e+00, 0.0000e+00,\n",
       "        3.0000e+00, 0.0000e+00, 1.0000e+01, 0.0000e+00, 0.0000e+00,\n",
       "        0.0000e+00, 2.0000e+00, 0.0000e+00, 1.0000e+00, 0.0000e+00,\n",
       "        2.0000e+00, 0.0000e+00, 0.0000e+00, 0.0000e+00, 3.0000e+00,\n",
       "        0.0000e+00, 1.0000e+00, 0.0000e+00, 0.0000e+00, 0.0000e+00,\n",
       "        0.0000e+00, 0.0000e+00, 0.0000e+00, 0.0000e+00, 0.0000e+00,\n",
       "        0.0000e+00, 0.0000e+00, 1.0000e+00, 0.0000e+00, 2.0000e+00,\n",
       "        0.0000e+00, 0.0000e+00, 0.0000e+00, 0.0000e+00, 0.0000e+00,\n",
       "        1.0000e+00, 0.0000e+00, 0.0000e+00, 0.0000e+00, 0.0000e+00,\n",
       "        0.0000e+00, 0.0000e+00, 0.0000e+00, 0.0000e+00, 1.0000e+00]),\n",
       " array([ 1.  ,  1.52,  2.04,  2.56,  3.08,  3.6 ,  4.12,  4.64,  5.16,\n",
       "         5.68,  6.2 ,  6.72,  7.24,  7.76,  8.28,  8.8 ,  9.32,  9.84,\n",
       "        10.36, 10.88, 11.4 , 11.92, 12.44, 12.96, 13.48, 14.  , 14.52,\n",
       "        15.04, 15.56, 16.08, 16.6 , 17.12, 17.64, 18.16, 18.68, 19.2 ,\n",
       "        19.72, 20.24, 20.76, 21.28, 21.8 , 22.32, 22.84, 23.36, 23.88,\n",
       "        24.4 , 24.92, 25.44, 25.96, 26.48, 27.  , 27.52, 28.04, 28.56,\n",
       "        29.08, 29.6 , 30.12, 30.64, 31.16, 31.68, 32.2 , 32.72, 33.24,\n",
       "        33.76, 34.28, 34.8 , 35.32, 35.84, 36.36, 36.88, 37.4 , 37.92,\n",
       "        38.44, 38.96, 39.48, 40.  , 40.52, 41.04, 41.56, 42.08, 42.6 ,\n",
       "        43.12, 43.64, 44.16, 44.68, 45.2 , 45.72, 46.24, 46.76, 47.28,\n",
       "        47.8 , 48.32, 48.84, 49.36, 49.88, 50.4 , 50.92, 51.44, 51.96,\n",
       "        52.48, 53.  ]),\n",
       " <a list of 100 Patch objects>)"
      ]
     },
     "execution_count": 24,
     "metadata": {},
     "output_type": "execute_result"
    },
    {
     "data": {
      "image/png": "[encoded data removed]",
      "text/plain": [
       "<matplotlib.figure.Figure at 0x1080b5bd0>"
      ]
     },
     "metadata": {},
     "output_type": "display_data"
    }
   ],
   "source": [
    "plt.hist(casts_df[\"actor_id\"].value_counts(), bins=100)"
   ]
  },
  {
   "cell_type": "code",
   "execution_count": 25,
   "metadata": {
    "colab": {
     "autoexec": {
      "startup": false,
      "wait_interval": 0
     },
     "base_uri": "https://localhost:8080/",
     "height": 34,
     "output_extras": [
      {
       "item_id": 1
      }
     ]
    },
    "colab_type": "code",
    "executionInfo": {
     "elapsed": 308,
     "status": "ok",
     "timestamp": 1519957587412,
     "user": {
      "displayName": "Yixin Wang",
      "photoUrl": "//lh4.googleusercontent.com/-g-8r3ggQo6c/AAAAAAAAAAI/AAAAAAAAJ0E/eQJGyS8z2OA/s50-c-k-no/photo.jpg",
      "userId": "117732458334621555108"
     },
     "user_tz": 300
    },
    "id": "T8UpReW59ufi",
    "outputId": "9a1b142e-c85d-4a74-f2e8-f790cc0ffea1"
   },
   "outputs": [
    {
     "data": {
      "text/plain": [
       "901"
      ]
     },
     "execution_count": 25,
     "metadata": {},
     "output_type": "execute_result"
    }
   ],
   "source": [
    "np.sum(casts_df[\"actor_id\"].value_counts() > 9)"
   ]
  },
  {
   "cell_type": "code",
   "execution_count": 26,
   "metadata": {
    "colab": {
     "autoexec": {
      "startup": false,
      "wait_interval": 0
     }
    },
    "colab_type": "code",
    "id": "9yznn0KY_J4T"
   },
   "outputs": [],
   "source": [
    "# keep only actors appearing 5 or more times\n",
    "casts_df = casts_df.groupby(\"actor_id\").filter(lambda x: len(x) > 9 )"
   ]
  },
  {
   "cell_type": "code",
   "execution_count": 27,
   "metadata": {
    "colab": {
     "autoexec": {
      "startup": false,
      "wait_interval": 0
     }
    },
    "colab_type": "code",
    "id": "W5NgY4PTPW1r"
   },
   "outputs": [],
   "source": [
    "new_actor_id_table = np.column_stack((casts_df.actor_id.unique(), range(len(casts_df.actor_id.unique()))))\n",
    "new_actor_id_table = pd.DataFrame(new_actor_id_table, columns=['actor_id', 'new_actor_id'])\n",
    "casts_df = pd.merge(casts_df, new_actor_id_table, left_on=\"actor_id\", right_on=\"actor_id\")"
   ]
  },
  {
   "cell_type": "code",
   "execution_count": 28,
   "metadata": {
    "colab": {
     "autoexec": {
      "startup": false,
      "wait_interval": 0
     },
     "base_uri": "https://localhost:8080/",
     "height": 173,
     "output_extras": [
      {
       "item_id": 1
      }
     ]
    },
    "colab_type": "code",
    "executionInfo": {
     "elapsed": 362,
     "status": "ok",
     "timestamp": 1519957605843,
     "user": {
      "displayName": "Yixin Wang",
      "photoUrl": "//lh4.googleusercontent.com/-g-8r3ggQo6c/AAAAAAAAAAI/AAAAAAAAJ0E/eQJGyS8z2OA/s50-c-k-no/photo.jpg",
      "userId": "117732458334621555108"
     },
     "user_tz": 300
    },
    "id": "1DNfmuwE_bQo",
    "outputId": "83564261-29c2-4521-b396-4c297b80d333"
   },
   "outputs": [
    {
     "data": {
      "text/html": [
       "<div>\n",
       "<style scoped>\n",
       "    .dataframe tbody tr th:only-of-type {\n",
       "        vertical-align: middle;\n",
       "    }\n",
       "\n",
       "    .dataframe tbody tr th {\n",
       "        vertical-align: top;\n",
       "    }\n",
       "\n",
       "    .dataframe thead th {\n",
       "        text-align: right;\n",
       "    }\n",
       "</style>\n",
       "<table border=\"1\" class=\"dataframe\">\n",
       "  <thead>\n",
       "    <tr style=\"text-align: right;\">\n",
       "      <th></th>\n",
       "      <th>movie_id</th>\n",
       "      <th>cast_id</th>\n",
       "      <th>character</th>\n",
       "      <th>credit_id</th>\n",
       "      <th>gender</th>\n",
       "      <th>actor_id</th>\n",
       "      <th>name</th>\n",
       "      <th>order</th>\n",
       "      <th>new_actor_id</th>\n",
       "    </tr>\n",
       "  </thead>\n",
       "  <tbody>\n",
       "    <tr>\n",
       "      <th>count</th>\n",
       "      <td>14097</td>\n",
       "      <td>14097</td>\n",
       "      <td>14097</td>\n",
       "      <td>14097</td>\n",
       "      <td>14097</td>\n",
       "      <td>14097</td>\n",
       "      <td>14097</td>\n",
       "      <td>14097</td>\n",
       "      <td>14097</td>\n",
       "    </tr>\n",
       "    <tr>\n",
       "      <th>unique</th>\n",
       "      <td>2853</td>\n",
       "      <td>238</td>\n",
       "      <td>11872</td>\n",
       "      <td>14097</td>\n",
       "      <td>3</td>\n",
       "      <td>901</td>\n",
       "      <td>901</td>\n",
       "      <td>106</td>\n",
       "      <td>901</td>\n",
       "    </tr>\n",
       "    <tr>\n",
       "      <th>top</th>\n",
       "      <td>87818</td>\n",
       "      <td>3</td>\n",
       "      <td>Himself</td>\n",
       "      <td>52fe48f7c3a36847f81828a9</td>\n",
       "      <td>2</td>\n",
       "      <td>2231</td>\n",
       "      <td>Samuel L. Jackson</td>\n",
       "      <td>0</td>\n",
       "      <td>67</td>\n",
       "    </tr>\n",
       "    <tr>\n",
       "      <th>freq</th>\n",
       "      <td>29</td>\n",
       "      <td>824</td>\n",
       "      <td>49</td>\n",
       "      <td>1</td>\n",
       "      <td>10526</td>\n",
       "      <td>53</td>\n",
       "      <td>53</td>\n",
       "      <td>2124</td>\n",
       "      <td>53</td>\n",
       "    </tr>\n",
       "  </tbody>\n",
       "</table>\n",
       "</div>"
      ],
      "text/plain": [
       "        movie_id  cast_id character                 credit_id  gender  \\\n",
       "count      14097    14097     14097                     14097   14097   \n",
       "unique      2853      238     11872                     14097       3   \n",
       "top        87818        3   Himself  52fe48f7c3a36847f81828a9       2   \n",
       "freq          29      824        49                         1   10526   \n",
       "\n",
       "        actor_id               name  order  new_actor_id  \n",
       "count      14097              14097  14097         14097  \n",
       "unique       901                901    106           901  \n",
       "top         2231  Samuel L. Jackson      0            67  \n",
       "freq          53                 53   2124            53  "
      ]
     },
     "execution_count": 28,
     "metadata": {},
     "output_type": "execute_result"
    }
   ],
   "source": [
    "casts_df.describe()"
   ]
  },
  {
   "cell_type": "code",
   "execution_count": 29,
   "metadata": {
    "colab": {
     "autoexec": {
      "startup": false,
      "wait_interval": 0
     },
     "base_uri": "https://localhost:8080/",
     "height": 102,
     "output_extras": [
      {
       "item_id": 1
      }
     ]
    },
    "colab_type": "code",
    "executionInfo": {
     "elapsed": 316,
     "status": "ok",
     "timestamp": 1519957607116,
     "user": {
      "displayName": "Yixin Wang",
      "photoUrl": "//lh4.googleusercontent.com/-g-8r3ggQo6c/AAAAAAAAAAI/AAAAAAAAJ0E/eQJGyS8z2OA/s50-c-k-no/photo.jpg",
      "userId": "117732458334621555108"
     },
     "user_tz": 300
    },
    "id": "NXoSFG2jEWOU",
    "outputId": "50d8708f-6781-45be-b63b-61d9ea6e23b4"
   },
   "outputs": [
    {
     "data": {
      "text/plain": [
       "Index([u'budget', u'genres', u'original_language', u'popularity',\n",
       "       u'production_companies', u'production_countries', u'revenue',\n",
       "       u'runtime', u'spoken_languages', u'vote_average', u'vote_count',\n",
       "       u'movie_id', u'cast', u'log_profit_rate'],\n",
       "      dtype='object')"
      ]
     },
     "execution_count": 29,
     "metadata": {},
     "output_type": "execute_result"
    }
   ],
   "source": [
    "tmdb.columns"
   ]
  },
  {
   "cell_type": "code",
   "execution_count": 30,
   "metadata": {
    "colab": {
     "autoexec": {
      "startup": false,
      "wait_interval": 0
     },
     "base_uri": "https://localhost:8080/",
     "height": 204,
     "output_extras": [
      {
       "item_id": 1
      }
     ]
    },
    "colab_type": "code",
    "executionInfo": {
     "elapsed": 9323,
     "status": "ok",
     "timestamp": 1519957617519,
     "user": {
      "displayName": "Yixin Wang",
      "photoUrl": "//lh4.googleusercontent.com/-g-8r3ggQo6c/AAAAAAAAAAI/AAAAAAAAJ0E/eQJGyS8z2OA/s50-c-k-no/photo.jpg",
      "userId": "117732458334621555108"
     },
     "user_tz": 300
    },
    "id": "Bdos9KXrEK5l",
    "outputId": "9613a4a6-37ef-4169-c2d1-3ef55162b82e"
   },
   "outputs": [
    {
     "name": "stdout",
     "output_type": "stream",
     "text": [
      "  movie_id   id                                    name\n",
      "0    19995  289                 Ingenious Film Partners\n",
      "1    19995  306  Twentieth Century Fox Film Corporation\n",
      "2    19995  444                      Dune Entertainment\n",
      "3    19995  574                Lightstorm Entertainment\n",
      "4      285    2                    Walt Disney Pictures\n",
      "        movie_id     id          name\n",
      "count      10275  10275         10275\n",
      "unique      3167   3554          3533\n",
      "top           16   6194  Warner Bros.\n",
      "freq          26    280           280\n"
     ]
    }
   ],
   "source": [
    "# too many distince production companies. dont use this information\n",
    "production_companies_list = [(np.array(pd.read_json(tmdb['production_companies'][row])), \\\n",
    "               tmdb[\"movie_id\"][row]) for row in tmdb.index]\n",
    "production_companies = np.concatenate([np.column_stack(\\\n",
    "                                         (np.tile(old_movie_id, production_companies.shape[0]), \\\n",
    "                                         production_companies)) \\\n",
    "                        for production_companies, old_movie_id in production_companies_list \\\n",
    "                        if production_companies.shape[0] > 0 ])\n",
    "production_companies_df = pd.DataFrame(production_companies, columns=['movie_id', 'id', 'name'])\n",
    "print(production_companies_df.head())\n",
    "print(production_companies_df.describe())"
   ]
  },
  {
   "cell_type": "code",
   "execution_count": 31,
   "metadata": {
    "colab": {
     "autoexec": {
      "startup": false,
      "wait_interval": 0
     },
     "base_uri": "https://localhost:8080/",
     "height": 111,
     "output_extras": [
      {
       "item_id": 1
      }
     ]
    },
    "colab_type": "code",
    "executionInfo": {
     "elapsed": 320,
     "status": "ok",
     "timestamp": 1519957618799,
     "user": {
      "displayName": "Yixin Wang",
      "photoUrl": "//lh4.googleusercontent.com/-g-8r3ggQo6c/AAAAAAAAAAI/AAAAAAAAJ0E/eQJGyS8z2OA/s50-c-k-no/photo.jpg",
      "userId": "117732458334621555108"
     },
     "user_tz": 300
    },
    "id": "b_r6PvwbMvdT",
    "outputId": "e002987c-d083-4dbb-db41-0f64d1fb192d"
   },
   "outputs": [
    {
     "data": {
      "text/html": [
       "<div>\n",
       "<style scoped>\n",
       "    .dataframe tbody tr th:only-of-type {\n",
       "        vertical-align: middle;\n",
       "    }\n",
       "\n",
       "    .dataframe tbody tr th {\n",
       "        vertical-align: top;\n",
       "    }\n",
       "\n",
       "    .dataframe thead th {\n",
       "        text-align: right;\n",
       "    }\n",
       "</style>\n",
       "<table border=\"1\" class=\"dataframe\">\n",
       "  <thead>\n",
       "    <tr style=\"text-align: right;\">\n",
       "      <th></th>\n",
       "      <th>iso_639_1</th>\n",
       "      <th>name</th>\n",
       "    </tr>\n",
       "  </thead>\n",
       "  <tbody>\n",
       "    <tr>\n",
       "      <th>0</th>\n",
       "      <td>en</td>\n",
       "      <td>English</td>\n",
       "    </tr>\n",
       "    <tr>\n",
       "      <th>1</th>\n",
       "      <td>es</td>\n",
       "      <td>Español</td>\n",
       "    </tr>\n",
       "  </tbody>\n",
       "</table>\n",
       "</div>"
      ],
      "text/plain": [
       "  iso_639_1     name\n",
       "0        en  English\n",
       "1        es  Español"
      ]
     },
     "execution_count": 31,
     "metadata": {},
     "output_type": "execute_result"
    }
   ],
   "source": [
    "pd.read_json(tmdb['spoken_languages'][0])"
   ]
  },
  {
   "cell_type": "code",
   "execution_count": 32,
   "metadata": {
    "colab": {
     "autoexec": {
      "startup": false,
      "wait_interval": 0
     },
     "base_uri": "https://localhost:8080/",
     "height": 204,
     "output_extras": [
      {
       "item_id": 1
      }
     ]
    },
    "colab_type": "code",
    "executionInfo": {
     "elapsed": 7630,
     "status": "ok",
     "timestamp": 1519957627348,
     "user": {
      "displayName": "Yixin Wang",
      "photoUrl": "//lh4.googleusercontent.com/-g-8r3ggQo6c/AAAAAAAAAAI/AAAAAAAAJ0E/eQJGyS8z2OA/s50-c-k-no/photo.jpg",
      "userId": "117732458334621555108"
     },
     "user_tz": 300
    },
    "id": "NaafVTwMFv6s",
    "outputId": "f8ae2cb3-c609-4fa1-fb87-17f13c294e90"
   },
   "outputs": [
    {
     "name": "stdout",
     "output_type": "stream",
     "text": [
      "  movie_id iso_3166_1                      name\n",
      "0    19995         US  United States of America\n",
      "1    19995         GB            United Kingdom\n",
      "2      285         US  United States of America\n",
      "3   206647         GB            United Kingdom\n",
      "4   206647         US  United States of America\n",
      "        movie_id iso_3166_1                      name\n",
      "count       4478       4478                      4478\n",
      "unique      3189         61                        61\n",
      "top           16         US  United States of America\n",
      "freq          12       2888                      2888\n"
     ]
    }
   ],
   "source": [
    "production_countries_list = [(np.array(pd.read_json(tmdb['production_countries'][row])), \\\n",
    "               tmdb[\"movie_id\"][row]) for row in tmdb.index]\n",
    "production_countries = np.concatenate([np.column_stack(\\\n",
    "                                        (np.tile(old_movie_id, production_countries.shape[0]), \\\n",
    "                                         production_countries)) \\\n",
    "                        for production_countries, old_movie_id in production_countries_list \\\n",
    "                        if production_countries.shape[0] > 0 ])\n",
    "production_countries_df = pd.DataFrame(production_countries, columns=['movie_id', 'iso_3166_1', 'name'])\n",
    "print(production_countries_df.head())\n",
    "print(production_countries_df.describe())"
   ]
  },
  {
   "cell_type": "code",
   "execution_count": 33,
   "metadata": {
    "colab": {
     "autoexec": {
      "startup": false,
      "wait_interval": 0
     }
    },
    "colab_type": "code",
    "id": "FqyHga1QTpIT"
   },
   "outputs": [],
   "source": [
    "new_country_table = np.column_stack((production_countries_df.iso_3166_1.unique(), range(len(production_countries_df.iso_3166_1.unique()))))\n",
    "new_country_table = pd.DataFrame(new_country_table, columns=['iso_3166_1', 'new_country_id'])\n",
    "production_countries_df = pd.merge(new_country_table, production_countries_df, left_on=\"iso_3166_1\", right_on=\"iso_3166_1\")"
   ]
  },
  {
   "cell_type": "code",
   "execution_count": 34,
   "metadata": {
    "colab": {
     "autoexec": {
      "startup": false,
      "wait_interval": 0
     },
     "base_uri": "https://localhost:8080/",
     "height": 204,
     "output_extras": [
      {
       "item_id": 1
      }
     ]
    },
    "colab_type": "code",
    "executionInfo": {
     "elapsed": 7472,
     "status": "ok",
     "timestamp": 1519957637243,
     "user": {
      "displayName": "Yixin Wang",
      "photoUrl": "//lh4.googleusercontent.com/-g-8r3ggQo6c/AAAAAAAAAAI/AAAAAAAAJ0E/eQJGyS8z2OA/s50-c-k-no/photo.jpg",
      "userId": "117732458334621555108"
     },
     "user_tz": 300
    },
    "id": "z9STqq06L5mn",
    "outputId": "ae74347a-47a7-4831-aca9-3f194a75b35f"
   },
   "outputs": [
    {
     "name": "stdout",
     "output_type": "stream",
     "text": [
      "  movie_id iso_639_1      name\n",
      "0    19995        en   English\n",
      "1    19995        es   Español\n",
      "2      285        en   English\n",
      "3   206647        fr  Français\n",
      "4   206647        en   English\n",
      "        movie_id iso_639_1     name\n",
      "count       4896      4896     4896\n",
      "unique      3198        76       57\n",
      "top        14161        en  English\n",
      "freq           9      3111     3111\n"
     ]
    }
   ],
   "source": [
    "spoken_languages_list = [(np.array(pd.read_json(tmdb['spoken_languages'][row])), \\\n",
    "               tmdb[\"movie_id\"][row]) for row in tmdb.index]\n",
    "spoken_languages = np.concatenate([np.column_stack(\\\n",
    "                                        (np.tile(old_movie_id, spoken_languages.shape[0]), \\\n",
    "                                         spoken_languages)) \\\n",
    "                        for spoken_languages, old_movie_id in spoken_languages_list \\\n",
    "                        if spoken_languages.shape[0] > 0 ])\n",
    "spoken_languages_df = pd.DataFrame(spoken_languages, columns=['movie_id', 'iso_639_1', 'name'])\n",
    "print(spoken_languages_df.head())\n",
    "print(spoken_languages_df.describe())"
   ]
  },
  {
   "cell_type": "code",
   "execution_count": 35,
   "metadata": {
    "colab": {
     "autoexec": {
      "startup": false,
      "wait_interval": 0
     }
    },
    "colab_type": "code",
    "id": "sDlr6AAyTJ3u"
   },
   "outputs": [],
   "source": [
    "new_lang_table = np.column_stack((spoken_languages_df.iso_639_1.unique(), range(len(spoken_languages_df.iso_639_1.unique()))))\n",
    "new_lang_table = pd.DataFrame(new_lang_table, columns=['iso_639_1', 'new_lang_id'])\n",
    "spoken_languages_df = pd.merge(spoken_languages_df, new_lang_table, left_on=\"iso_639_1\", right_on=\"iso_639_1\")"
   ]
  },
  {
   "cell_type": "code",
   "execution_count": 36,
   "metadata": {
    "colab": {
     "autoexec": {
      "startup": false,
      "wait_interval": 0
     },
     "base_uri": "https://localhost:8080/",
     "height": 102,
     "output_extras": [
      {
       "item_id": 1
      }
     ]
    },
    "colab_type": "code",
    "executionInfo": {
     "elapsed": 261,
     "status": "ok",
     "timestamp": 1519957639498,
     "user": {
      "displayName": "Yixin Wang",
      "photoUrl": "//lh4.googleusercontent.com/-g-8r3ggQo6c/AAAAAAAAAAI/AAAAAAAAJ0E/eQJGyS8z2OA/s50-c-k-no/photo.jpg",
      "userId": "117732458334621555108"
     },
     "user_tz": 300
    },
    "id": "VzTXXQCPmYYM",
    "outputId": "9f7dfbe4-f0d3-44e6-eb0f-33bf42e42771"
   },
   "outputs": [
    {
     "data": {
      "text/plain": [
       "count     14097\n",
       "unique     2853\n",
       "top       87818\n",
       "freq         29\n",
       "Name: movie_id, dtype: int64"
      ]
     },
     "execution_count": 36,
     "metadata": {},
     "output_type": "execute_result"
    }
   ],
   "source": [
    "casts_df[\"movie_id\"].describe()"
   ]
  },
  {
   "cell_type": "code",
   "execution_count": 37,
   "metadata": {
    "colab": {
     "autoexec": {
      "startup": false,
      "wait_interval": 0
     }
    },
    "colab_type": "code",
    "id": "aHSgJQNUUUMw"
   },
   "outputs": [],
   "source": [
    "clean_mv = pd.Series(list(set(casts_df[\"movie_id\"]) & \\\n",
    "                           set(genres_df[\"movie_id\"]) & \\\n",
    "                           set(production_companies_df[\"movie_id\"]) & \\\n",
    "                           set(spoken_languages_df[\"movie_id\"]) & \\\n",
    "                           set(production_countries_df[\"movie_id\"])))"
   ]
  },
  {
   "cell_type": "code",
   "execution_count": 38,
   "metadata": {
    "colab": {
     "autoexec": {
      "startup": false,
      "wait_interval": 0
     },
     "base_uri": "https://localhost:8080/",
     "height": 102,
     "output_extras": [
      {
       "item_id": 1
      }
     ]
    },
    "colab_type": "code",
    "executionInfo": {
     "elapsed": 309,
     "status": "ok",
     "timestamp": 1519957641505,
     "user": {
      "displayName": "Yixin Wang",
      "photoUrl": "//lh4.googleusercontent.com/-g-8r3ggQo6c/AAAAAAAAAAI/AAAAAAAAJ0E/eQJGyS8z2OA/s50-c-k-no/photo.jpg",
      "userId": "117732458334621555108"
     },
     "user_tz": 300
    },
    "id": "lEqzesZLiPL1",
    "outputId": "6c88a633-fd90-4bce-8fa3-d1c3fa8cf1f3"
   },
   "outputs": [
    {
     "data": {
      "text/plain": [
       "count       2828\n",
       "unique      2828\n",
       "top       417859\n",
       "freq           1\n",
       "dtype: int64"
      ]
     },
     "execution_count": 38,
     "metadata": {},
     "output_type": "execute_result"
    }
   ],
   "source": [
    "clean_mv.astype('category').describe()"
   ]
  },
  {
   "cell_type": "code",
   "execution_count": 39,
   "metadata": {
    "colab": {
     "autoexec": {
      "startup": false,
      "wait_interval": 0
     }
    },
    "colab_type": "code",
    "id": "uGOeQkYZfUgZ"
   },
   "outputs": [],
   "source": [
    "casts_df = casts_df[casts_df[\"movie_id\"].isin(clean_mv)]\n",
    "genres_df = genres_df[genres_df[\"movie_id\"].isin(clean_mv)]\n",
    "tmdb = tmdb[tmdb[\"movie_id\"].isin(clean_mv)]\n",
    "production_companies_df = production_companies_df[production_companies_df[\"movie_id\"].isin(clean_mv)]\n",
    "spoken_languages_df = spoken_languages_df[spoken_languages_df[\"movie_id\"].isin(clean_mv)]\n",
    "production_countries_df = production_countries_df[production_countries_df[\"movie_id\"].isin(clean_mv)]"
   ]
  },
  {
   "cell_type": "code",
   "execution_count": 40,
   "metadata": {
    "colab": {
     "autoexec": {
      "startup": false,
      "wait_interval": 0
     },
     "base_uri": "https://localhost:8080/",
     "height": 204,
     "output_extras": [
      {
       "item_id": 1
      }
     ]
    },
    "colab_type": "code",
    "executionInfo": {
     "elapsed": 326,
     "status": "ok",
     "timestamp": 1519957643913,
     "user": {
      "displayName": "Yixin Wang",
      "photoUrl": "//lh4.googleusercontent.com/-g-8r3ggQo6c/AAAAAAAAAAI/AAAAAAAAJ0E/eQJGyS8z2OA/s50-c-k-no/photo.jpg",
      "userId": "117732458334621555108"
     },
     "user_tz": 300
    },
    "id": "0LgXw8OqmLWA",
    "outputId": "c1394f38-9709-4c61-d115-67787f63f671"
   },
   "outputs": [
    {
     "data": {
      "text/html": [
       "<div>\n",
       "<style scoped>\n",
       "    .dataframe tbody tr th:only-of-type {\n",
       "        vertical-align: middle;\n",
       "    }\n",
       "\n",
       "    .dataframe tbody tr th {\n",
       "        vertical-align: top;\n",
       "    }\n",
       "\n",
       "    .dataframe thead th {\n",
       "        text-align: right;\n",
       "    }\n",
       "</style>\n",
       "<table border=\"1\" class=\"dataframe\">\n",
       "  <thead>\n",
       "    <tr style=\"text-align: right;\">\n",
       "      <th></th>\n",
       "      <th>movie_id</th>\n",
       "      <th>cast_id</th>\n",
       "      <th>character</th>\n",
       "      <th>credit_id</th>\n",
       "      <th>gender</th>\n",
       "      <th>actor_id</th>\n",
       "      <th>name</th>\n",
       "      <th>order</th>\n",
       "      <th>new_actor_id</th>\n",
       "    </tr>\n",
       "  </thead>\n",
       "  <tbody>\n",
       "    <tr>\n",
       "      <th>0</th>\n",
       "      <td>19995</td>\n",
       "      <td>242</td>\n",
       "      <td>Jake Sully</td>\n",
       "      <td>5602a8a7c3a3685532001c9a</td>\n",
       "      <td>2</td>\n",
       "      <td>65731</td>\n",
       "      <td>Sam Worthington</td>\n",
       "      <td>0</td>\n",
       "      <td>0</td>\n",
       "    </tr>\n",
       "    <tr>\n",
       "      <th>1</th>\n",
       "      <td>534</td>\n",
       "      <td>6</td>\n",
       "      <td>Marcus Wright</td>\n",
       "      <td>52fe424ec3a36847f8013fcd</td>\n",
       "      <td>2</td>\n",
       "      <td>65731</td>\n",
       "      <td>Sam Worthington</td>\n",
       "      <td>1</td>\n",
       "      <td>0</td>\n",
       "    </tr>\n",
       "    <tr>\n",
       "      <th>2</th>\n",
       "      <td>57165</td>\n",
       "      <td>4</td>\n",
       "      <td>Perseus</td>\n",
       "      <td>52fe4926c3a36847f818b907</td>\n",
       "      <td>2</td>\n",
       "      <td>65731</td>\n",
       "      <td>Sam Worthington</td>\n",
       "      <td>0</td>\n",
       "      <td>0</td>\n",
       "    </tr>\n",
       "    <tr>\n",
       "      <th>3</th>\n",
       "      <td>18823</td>\n",
       "      <td>1</td>\n",
       "      <td>Perseus</td>\n",
       "      <td>52fe479e9251416c7509fe41</td>\n",
       "      <td>2</td>\n",
       "      <td>65731</td>\n",
       "      <td>Sam Worthington</td>\n",
       "      <td>0</td>\n",
       "      <td>0</td>\n",
       "    </tr>\n",
       "    <tr>\n",
       "      <th>4</th>\n",
       "      <td>10592</td>\n",
       "      <td>40</td>\n",
       "      <td>as Cpl. B.J. 'Depot' Guidry</td>\n",
       "      <td>52fe438f9251416c7501522f</td>\n",
       "      <td>2</td>\n",
       "      <td>65731</td>\n",
       "      <td>Sam Worthington</td>\n",
       "      <td>19</td>\n",
       "      <td>0</td>\n",
       "    </tr>\n",
       "  </tbody>\n",
       "</table>\n",
       "</div>"
      ],
      "text/plain": [
       "  movie_id cast_id                    character                 credit_id  \\\n",
       "0    19995     242                   Jake Sully  5602a8a7c3a3685532001c9a   \n",
       "1      534       6                Marcus Wright  52fe424ec3a36847f8013fcd   \n",
       "2    57165       4                      Perseus  52fe4926c3a36847f818b907   \n",
       "3    18823       1                      Perseus  52fe479e9251416c7509fe41   \n",
       "4    10592      40  as Cpl. B.J. 'Depot' Guidry  52fe438f9251416c7501522f   \n",
       "\n",
       "  gender actor_id             name order new_actor_id  \n",
       "0      2    65731  Sam Worthington     0            0  \n",
       "1      2    65731  Sam Worthington     1            0  \n",
       "2      2    65731  Sam Worthington     0            0  \n",
       "3      2    65731  Sam Worthington     0            0  \n",
       "4      2    65731  Sam Worthington    19            0  "
      ]
     },
     "execution_count": 40,
     "metadata": {},
     "output_type": "execute_result"
    }
   ],
   "source": [
    "casts_df.head()"
   ]
  },
  {
   "cell_type": "code",
   "execution_count": 41,
   "metadata": {
    "colab": {
     "autoexec": {
      "startup": false,
      "wait_interval": 0
     }
    },
    "colab_type": "code",
    "id": "3rdzE0PDiqI_"
   },
   "outputs": [],
   "source": [
    "new_movie_id_table = np.column_stack((clean_mv, range(len(clean_mv))))\n",
    "new_movie_id_table = pd.DataFrame(new_movie_id_table, columns=['movie_id', 'new_movie_id'])"
   ]
  },
  {
   "cell_type": "code",
   "execution_count": 42,
   "metadata": {},
   "outputs": [],
   "source": [
    "new_movie_id_table[\"movie_id\"] = new_movie_id_table[\"movie_id\"].astype('object')\n",
    "tmdb[\"movie_id\"] = tmdb[\"movie_id\"].astype('object')"
   ]
  },
  {
   "cell_type": "code",
   "execution_count": 43,
   "metadata": {
    "colab": {
     "autoexec": {
      "startup": false,
      "wait_interval": 0
     }
    },
    "colab_type": "code",
    "id": "4SSPx63mi3uZ"
   },
   "outputs": [],
   "source": [
    "casts_df = pd.merge(casts_df, new_movie_id_table, left_on=\"movie_id\", right_on=\"movie_id\")\n",
    "genres_df = pd.merge(genres_df, new_movie_id_table, left_on=\"movie_id\", right_on=\"movie_id\")\n",
    "tmdb = pd.merge(tmdb, new_movie_id_table, left_on=\"movie_id\", right_on=\"movie_id\")\n",
    "production_companies_df = pd.merge(production_companies_df, new_movie_id_table, left_on=\"movie_id\", right_on=\"movie_id\")\n",
    "spoken_languages_df = pd.merge(spoken_languages_df, new_movie_id_table, left_on=\"movie_id\", right_on=\"movie_id\")\n",
    "production_countries_df = pd.merge(production_countries_df, new_movie_id_table, left_on=\"movie_id\", right_on=\"movie_id\")"
   ]
  },
  {
   "cell_type": "code",
   "execution_count": 44,
   "metadata": {
    "colab": {
     "autoexec": {
      "startup": false,
      "wait_interval": 0
     }
    },
    "colab_type": "code",
    "id": "50H_2IhIg8DL"
   },
   "outputs": [],
   "source": [
    "casts_df.to_csv(\"../dat/tmdb_proc/casts_df_clean.csv\", encoding='utf-8')"
   ]
  },
  {
   "cell_type": "code",
   "execution_count": 45,
   "metadata": {
    "colab": {
     "autoexec": {
      "startup": false,
      "wait_interval": 0
     }
    },
    "colab_type": "code",
    "id": "ASgcdOWDg-K3"
   },
   "outputs": [],
   "source": [
    "genres_df.to_csv(\"../dat/tmdb_proc/genres_df_clean.csv\")"
   ]
  },
  {
   "cell_type": "code",
   "execution_count": 46,
   "metadata": {
    "colab": {
     "autoexec": {
      "startup": false,
      "wait_interval": 0
     }
    },
    "colab_type": "code",
    "id": "Fdb_Z4kthAnr"
   },
   "outputs": [],
   "source": [
    "tmdb.to_csv(\"../dat/tmdb_proc/tmdb_clean.csv\")"
   ]
  },
  {
   "cell_type": "code",
   "execution_count": 47,
   "metadata": {
    "colab": {
     "autoexec": {
      "startup": false,
      "wait_interval": 0
     }
    },
    "colab_type": "code",
    "id": "EBUdSCIVhQS7"
   },
   "outputs": [],
   "source": [
    "production_companies_df.to_csv(\"../dat/tmdb_proc/production_companies_clean.csv\", encoding='utf-8')"
   ]
  },
  {
   "cell_type": "code",
   "execution_count": 48,
   "metadata": {
    "colab": {
     "autoexec": {
      "startup": false,
      "wait_interval": 0
     }
    },
    "colab_type": "code",
    "id": "4rBK_0RqhsSW"
   },
   "outputs": [],
   "source": [
    "production_countries_df.to_csv(\"../dat/tmdb_proc/production_countries_clean.csv\", encoding='utf-8')"
   ]
  },
  {
   "cell_type": "code",
   "execution_count": 49,
   "metadata": {
    "colab": {
     "autoexec": {
      "startup": false,
      "wait_interval": 0
     }
    },
    "colab_type": "code",
    "id": "uhOn1yivh1Ox"
   },
   "outputs": [],
   "source": [
    "spoken_languages_df.to_csv(\"../dat/tmdb_proc/spoken_languages_clean.csv\", encoding='utf-8')"
   ]
  },
  {
   "cell_type": "code",
   "execution_count": null,
   "metadata": {
    "colab": {
     "autoexec": {
      "startup": false,
      "wait_interval": 0
     }
    },
    "colab_type": "code",
    "id": "IAkUlQIfj0Zv"
   },
   "outputs": [],
   "source": []
  }
 ],
 "metadata": {
  "accelerator": "GPU",
  "colab": {
   "collapsed_sections": [],
   "default_view": {},
   "name": "tmdb_movie_preprocess",
   "provenance": [],
   "version": "0.3.2",
   "views": {}
  },
  "kernelspec": {
   "display_name": "Python 2",
   "language": "python",
   "name": "python2"
  },
  "language_info": {
   "codemirror_mode": {
    "name": "ipython",
    "version": 2
   },
   "file_extension": ".py",
   "mimetype": "text/x-python",
   "name": "python",
   "nbconvert_exporter": "python",
   "pygments_lexer": "ipython2",
   "version": "2.7.16"
  }
 },
 "nbformat": 4,
 "nbformat_minor": 1
}
